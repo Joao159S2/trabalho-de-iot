{
 "cells": [
  {
   "cell_type": "code",
   "execution_count": 1,
   "id": "8f93f38a",
   "metadata": {},
   "outputs": [
    {
     "name": "stdout",
     "output_type": "stream",
     "text": [
      "Média: 70.0\n",
      "Mediana: 82\n",
      "Moda: 0\n",
      "IQR: 20.5\n",
      "\n",
      "Pandas describe():\n",
      "count     13.000000\n",
      "mean      70.000000\n",
      "std       32.480764\n",
      "min        0.000000\n",
      "25%       70.000000\n",
      "50%       82.000000\n",
      "75%       87.000000\n",
      "max      100.000000\n",
      "dtype: float64\n"
     ]
    }
   ],
   "source": [
    "from collections import Counter\n",
    "\n",
    "def media(lista):\n",
    "    if not lista:\n",
    "        return None\n",
    "    return sum(lista)/len(lista)\n",
    "\n",
    "def mediana(lista):\n",
    "    n = len(lista)\n",
    "    if n == 0:\n",
    "        return None\n",
    "    s = sorted(lista)\n",
    "    mid = n // 2\n",
    "    if n % 2 == 0:\n",
    "        return (s[mid-1] + s[mid]) / 2\n",
    "    else:\n",
    "        return s[mid]\n",
    "\n",
    "def moda(lista):\n",
    "    if not lista:\n",
    "        return None\n",
    "    c = Counter(lista)\n",
    "    max_freq = max(c.values())\n",
    "    modes = [k for k,v in c.items() if v == max_freq]\n",
    "    # se quiser retornar a menor moda:\n",
    "    return modes[0] if len(modes) >= 1 else None\n",
    "\n",
    "def iqr(lista):\n",
    "    if not lista:\n",
    "        return None\n",
    "    s = sorted(lista)\n",
    "    n = len(s)\n",
    "    # método simples para Q1 e Q3:\n",
    "    import math\n",
    "    q1_idx = (n + 1) / 4.0\n",
    "    q3_idx = 3 * (n + 1) / 4.0\n",
    "    # função auxiliar para interpolar percentil simples\n",
    "    def percentile(sorted_list, idx):\n",
    "        if idx.is_integer():\n",
    "            return sorted_list[int(idx)-1]\n",
    "        else:\n",
    "            # interpolação linear\n",
    "            low = int(idx) - 1\n",
    "            high = low + 1\n",
    "            frac = idx - int(idx)\n",
    "            return sorted_list[low] + frac * (sorted_list[high] - sorted_list[low])\n",
    "    q1 = percentile(s, q1_idx)\n",
    "    q3 = percentile(s, q3_idx)\n",
    "    return q3 - q1\n",
    "\n",
    "# Teste com a lista dada\n",
    "dados = [83, 95, 91, 87, 70, 0, 85, 82, 100, 67, 73, 77, 0]\n",
    "\n",
    "print(\"Média:\", media(dados))\n",
    "print(\"Mediana:\", mediana(dados))\n",
    "print(\"Moda:\", moda(dados))\n",
    "print(\"IQR:\", iqr(dados))\n",
    "\n",
    "# Comparar com pandas\n",
    "import pandas as pd\n",
    "print(\"\\nPandas describe():\")\n",
    "print(pd.Series(dados).describe())\n"
   ]
  }
 ],
 "metadata": {
  "kernelspec": {
   "display_name": "Python 3",
   "language": "python",
   "name": "python3"
  },
  "language_info": {
   "codemirror_mode": {
    "name": "ipython",
    "version": 3
   },
   "file_extension": ".py",
   "mimetype": "text/x-python",
   "name": "python",
   "nbconvert_exporter": "python",
   "pygments_lexer": "ipython3",
   "version": "3.13.7"
  }
 },
 "nbformat": 4,
 "nbformat_minor": 5
}
