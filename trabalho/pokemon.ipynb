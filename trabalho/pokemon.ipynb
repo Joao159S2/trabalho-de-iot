{
 "cells": [
  {
   "cell_type": "code",
   "execution_count": null,
   "id": "4b8be348",
   "metadata": {},
   "outputs": [],
   "source": [
    "# -*- coding: utf-8 -*-\n",
    "\n",
    "#codigo da api de pokemon\n",
    "%pip install requests\n",
    "%pip install pandas\n",
    "import sys\n",
    "import requests\n",
    "import pandas as pd\n",
    "\n",
    "def baixar_game_indices(numero_pokemon: int, timeout=10):\n",
    "    url = f\"https://pokeapi.co/api/v2/pokemon/{60}\"\n",
    "\n",
    "    try:\n",
    "        resp = requests.get(url, timeout=timeout)\n",
    "    except requests.exceptions.Timeout:\n",
    "        raise SystemExit(f\"Erro: timeout após {timeout}s acessando {url}\")\n",
    "    except requests.exceptions.RequestException as e:\n",
    "        raise SystemExit(f\"Erro de requisição: {e}\")\n",
    "\n",
    "    if resp.status_code != 200:\n",
    "        raise SystemExit(f\"Erro HTTP {resp.status_code} ao acessar {url}\")\n",
    "\n",
    "    data = resp.json()\n",
    "    gi = data.get(\"game_indices\", [])\n",
    "    rows = []\n",
    "    for item in gi:\n",
    "        game_index = item.get(\"game_index\")\n",
    "        version = (item.get(\"version\") or {}).get(\"name\")\n",
    "        rows.append({\"game_index\": game_index, \"version\": version})\n",
    "\n",
    "    df = pd.DataFrame(rows, columns=[\"game_index\", \"version\"])\n",
    "    return df\n",
    "\n",
    "# Para uso em Jupyter Notebook, defina o número do Pokémon diretamente\n",
    "numero_pokemon = 60  # Altere para o número desejado\n",
    "\n",
    "df = baixar_game_indices(numero_pokemon)\n",
    "out = \"game_index_pokemon.csv\"\n",
    "df.to_csv(out, index=False, sep=\";\", encoding=\"utf-8\")  # UTF-8 e separador ';'\n",
    "print(f\"Salvo em {out} ({len(df)} linhas).\")\n"
   ]
  }
 ],
 "metadata": {
  "language_info": {
   "name": "python"
  }
 },
 "nbformat": 4,
 "nbformat_minor": 5
}
